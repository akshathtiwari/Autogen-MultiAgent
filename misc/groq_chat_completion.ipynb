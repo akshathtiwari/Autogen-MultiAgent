{
 "cells": [
  {
   "cell_type": "code",
   "execution_count": null,
   "metadata": {},
   "outputs": [],
   "source": [
    "from groq import Groq\n",
    "\n",
    "client = Groq()\n",
    "completion = client.chat.completions.create(\n",
    "    model=\"llama-3.3-70b-versatile\",\n",
    "    messages=[{\n",
    "            \"role\": \"system\",\n",
    "            \"content\": \"You are a legal advisor who summarizes documents in JSON\"\n",
    "        },\n",
    "        # Set a user message for the assistant to respond to.\n",
    "        {\n",
    "            \"role\": \"user\",\n",
    "            \"content\": \"what is haebes corpus\",\n",
    "        }],\n",
    "    temperature=0.6,\n",
    "    max_completion_tokens=4096,\n",
    "    # reasoning_format='hidden',\n",
    "    response_format= {\"type\": \"json_object\"},\n",
    "    top_p=0.95,\n",
    "    stream=False,\n",
    "    stop=None,\n",
    "    \n",
    ")\n",
    "\n",
    "print(completion.choices[0].message.content)\n"
   ]
  },
  {
   "cell_type": "code",
   "execution_count": null,
   "metadata": {},
   "outputs": [],
   "source": [
    "from dataclasses import dataclass\n",
    "\n",
    "from autogen_core import AgentId, MessageContext, RoutedAgent, message_handler\n",
    "from autogen_agentchat.agents import AssistantAgent\n",
    "from autogen_agentchat.messages import TextMessage\n",
    "from autogen_ext.models.openai import OpenAIChatCompletionClient\n",
    "\n",
    "@dataclass\n",
    "class MyMessageType:\n",
    "    content: str\n",
    "\n",
    "class MyAgent(RoutedAgent):\n",
    "    def __init__(self) -> None:\n",
    "        super().__init__(\"MyAgent\")\n",
    "\n",
    "    @message_handler\n",
    "    async def handle_my_message_type(self, message: MyMessageType, ctx: MessageContext) -> None:\n",
    "        print(f\"{self.id.type} received message: {message.content}\")\n",
    "           \n",
    "class MyAssistant(RoutedAgent):\n",
    "    def __init__(self, name: str) -> None:\n",
    "        super().__init__(name)\n",
    "        model_client = OpenAIChatCompletionClient(model=\"gpt-4o\")\n",
    "        self._delegate = AssistantAgent(name, model_client=model_client)\n",
    "\n",
    "    @message_handler\n",
    "    async def handle_my_message_type(self, message: MyMessageType, ctx: MessageContext) -> None:\n",
    "        print(f\"{self.id.type} received message: {message.content}\")\n",
    "        response = await self._delegate.on_messages(\n",
    "            [TextMessage(content=message.content, source=\"user\")], ctx.cancellation_token\n",
    "        )\n",
    "        print(f\"{self.id.type} responded: {response.chat_message.content}\")"
   ]
  }
 ],
 "metadata": {
  "kernelspec": {
   "display_name": ".venv",
   "language": "python",
   "name": "python3"
  },
  "language_info": {
   "codemirror_mode": {
    "name": "ipython",
    "version": 3
   },
   "file_extension": ".py",
   "mimetype": "text/x-python",
   "name": "python",
   "nbconvert_exporter": "python",
   "pygments_lexer": "ipython3",
   "version": "3.12.7"
  }
 },
 "nbformat": 4,
 "nbformat_minor": 2
}
